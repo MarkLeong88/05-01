{
 "cells": [
  {
   "cell_type": "code",
   "execution_count": 1,
   "metadata": {},
   "outputs": [],
   "source": [
    "def summ(arg1,arg2):\n",
    "    print (int(arg1)+int(arg2))\n",
    "    "
   ]
  },
  {
   "cell_type": "code",
   "execution_count": 2,
   "metadata": {},
   "outputs": [],
   "source": [
    "def minus(arg1,arg2):\n",
    "    print (int(arg1)-int(arg2))"
   ]
  },
  {
   "cell_type": "code",
   "execution_count": 3,
   "metadata": {},
   "outputs": [],
   "source": [
    "def mul(arg1,arg2):\n",
    "    print (int(arg1)*int(arg2))"
   ]
  },
  {
   "cell_type": "code",
   "execution_count": 4,
   "metadata": {},
   "outputs": [],
   "source": [
    "def div(arg1,arg2):\n",
    "    print (int(arg1)/int(arg2))"
   ]
  },
  {
   "cell_type": "code",
   "execution_count": 5,
   "metadata": {},
   "outputs": [],
   "source": [
    "def calculate():    \n",
    "    arg1=int(input(\"數字1:\"))\n",
    "    func=input(\"符號：\")\n",
    "    arg2=int(input(\"數字2：\"))\n",
    "    if func == \"+\":\n",
    "        summ(arg1,arg2)\n",
    "    if func == \"-\":\n",
    "        minus(arg1,arg2)\n",
    "    if func == \"*\":\n",
    "        mul(arg1,arg2)\n",
    "    if func == \"/\":\n",
    "        div(arg1,arg2)"
   ]
  },
  {
   "cell_type": "code",
   "execution_count": 7,
   "metadata": {},
   "outputs": [
    {
     "name": "stdout",
     "output_type": "stream",
     "text": [
      "數字1:5\n",
      "符號：-\n",
      "數字2：2\n",
      "3\n"
     ]
    }
   ],
   "source": [
    "calculate()"
   ]
  },
  {
   "cell_type": "code",
   "execution_count": null,
   "metadata": {},
   "outputs": [],
   "source": []
  }
 ],
 "metadata": {
  "kernelspec": {
   "display_name": "Python 3",
   "language": "python",
   "name": "python3"
  },
  "language_info": {
   "codemirror_mode": {
    "name": "ipython",
    "version": 3
   },
   "file_extension": ".py",
   "mimetype": "text/x-python",
   "name": "python",
   "nbconvert_exporter": "python",
   "pygments_lexer": "ipython3",
   "version": "3.7.1"
  }
 },
 "nbformat": 4,
 "nbformat_minor": 2
}
